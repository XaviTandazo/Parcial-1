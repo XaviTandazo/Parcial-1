{
 "cells": [
  {
   "cell_type": "markdown",
   "metadata": {},
   "source": [
    "# Entrenamiento y Evaluacion de Modelos de Regresion"
   ]
  },
  {
   "cell_type": "code",
   "execution_count": 9,
   "metadata": {},
   "outputs": [],
   "source": [
    "import pandas as pd\n",
    "from sklearn.model_selection import train_test_split\n",
    "from sklearn.linear_model import LinearRegression, SGDRegressor\n",
    "from sklearn.metrics import mean_squared_error, mean_absolute_error, r2_score\n",
    "import numpy as np"
   ]
  },
  {
   "cell_type": "code",
   "execution_count": 10,
   "metadata": {},
   "outputs": [
    {
     "data": {
      "text/html": [
       "<div>\n",
       "<style scoped>\n",
       "    .dataframe tbody tr th:only-of-type {\n",
       "        vertical-align: middle;\n",
       "    }\n",
       "\n",
       "    .dataframe tbody tr th {\n",
       "        vertical-align: top;\n",
       "    }\n",
       "\n",
       "    .dataframe thead th {\n",
       "        text-align: right;\n",
       "    }\n",
       "</style>\n",
       "<table border=\"1\" class=\"dataframe\">\n",
       "  <thead>\n",
       "    <tr style=\"text-align: right;\">\n",
       "      <th></th>\n",
       "      <th>user_id</th>\n",
       "      <th>first_name</th>\n",
       "      <th>last_name</th>\n",
       "      <th>age</th>\n",
       "      <th>city</th>\n",
       "      <th>reg_date</th>\n",
       "      <th>plan</th>\n",
       "      <th>churn_date</th>\n",
       "      <th>total_calls</th>\n",
       "      <th>total_call_duration</th>\n",
       "      <th>...</th>\n",
       "      <th>total_sms</th>\n",
       "      <th>total_mb</th>\n",
       "      <th>extra_usage</th>\n",
       "      <th>log_total_calls</th>\n",
       "      <th>log_total_mb_used</th>\n",
       "      <th>log_total_messages</th>\n",
       "      <th>total_calls_scaled</th>\n",
       "      <th>total_mb_scaled</th>\n",
       "      <th>total_messages_scaled</th>\n",
       "      <th>region</th>\n",
       "    </tr>\n",
       "  </thead>\n",
       "  <tbody>\n",
       "    <tr>\n",
       "      <th>0</th>\n",
       "      <td>1000</td>\n",
       "      <td>Anamaria</td>\n",
       "      <td>Bauer</td>\n",
       "      <td>45</td>\n",
       "      <td>Atlanta-Sandy Springs-Roswell, GA MSA</td>\n",
       "      <td>2018-12-24</td>\n",
       "      <td>ultimate</td>\n",
       "      <td>Activo</td>\n",
       "      <td>15.0</td>\n",
       "      <td>110.98</td>\n",
       "      <td>...</td>\n",
       "      <td>11.0</td>\n",
       "      <td>1901.47</td>\n",
       "      <td>-28818.53</td>\n",
       "      <td>2.772589</td>\n",
       "      <td>7.550908</td>\n",
       "      <td>2.484907</td>\n",
       "      <td>1.000000</td>\n",
       "      <td>0.203518</td>\n",
       "      <td>0.733333</td>\n",
       "      <td>Atlanta-Sandy Springs-Roswell, GA MSA</td>\n",
       "    </tr>\n",
       "    <tr>\n",
       "      <th>1</th>\n",
       "      <td>1001</td>\n",
       "      <td>Mickey</td>\n",
       "      <td>Wilkerson</td>\n",
       "      <td>28</td>\n",
       "      <td>Seattle-Tacoma-Bellevue, WA MSA</td>\n",
       "      <td>2018-08-13</td>\n",
       "      <td>surf</td>\n",
       "      <td>Activo</td>\n",
       "      <td>4.0</td>\n",
       "      <td>13.46</td>\n",
       "      <td>...</td>\n",
       "      <td>4.0</td>\n",
       "      <td>1724.33</td>\n",
       "      <td>-13635.67</td>\n",
       "      <td>1.609438</td>\n",
       "      <td>7.453174</td>\n",
       "      <td>1.609438</td>\n",
       "      <td>0.266667</td>\n",
       "      <td>0.184558</td>\n",
       "      <td>0.266667</td>\n",
       "      <td>Seattle-Tacoma-Bellevue, WA MSA</td>\n",
       "    </tr>\n",
       "    <tr>\n",
       "      <th>2</th>\n",
       "      <td>1002</td>\n",
       "      <td>Carlee</td>\n",
       "      <td>Hoffman</td>\n",
       "      <td>36</td>\n",
       "      <td>Las Vegas-Henderson-Paradise, NV MSA</td>\n",
       "      <td>2018-10-21</td>\n",
       "      <td>surf</td>\n",
       "      <td>Activo</td>\n",
       "      <td>7.0</td>\n",
       "      <td>22.31</td>\n",
       "      <td>...</td>\n",
       "      <td>5.0</td>\n",
       "      <td>1646.11</td>\n",
       "      <td>-13713.89</td>\n",
       "      <td>2.079442</td>\n",
       "      <td>7.406778</td>\n",
       "      <td>1.791759</td>\n",
       "      <td>0.466667</td>\n",
       "      <td>0.176186</td>\n",
       "      <td>0.333333</td>\n",
       "      <td>Las Vegas-Henderson-Paradise, NV MSA</td>\n",
       "    </tr>\n",
       "    <tr>\n",
       "      <th>3</th>\n",
       "      <td>1003</td>\n",
       "      <td>Reynaldo</td>\n",
       "      <td>Jenkins</td>\n",
       "      <td>52</td>\n",
       "      <td>Tulsa, OK MSA</td>\n",
       "      <td>2018-01-28</td>\n",
       "      <td>surf</td>\n",
       "      <td>Activo</td>\n",
       "      <td>15.0</td>\n",
       "      <td>84.56</td>\n",
       "      <td>...</td>\n",
       "      <td>15.0</td>\n",
       "      <td>6135.25</td>\n",
       "      <td>-9224.75</td>\n",
       "      <td>2.772589</td>\n",
       "      <td>8.721969</td>\n",
       "      <td>2.772589</td>\n",
       "      <td>1.000000</td>\n",
       "      <td>0.656667</td>\n",
       "      <td>1.000000</td>\n",
       "      <td>Tulsa, OK MSA</td>\n",
       "    </tr>\n",
       "    <tr>\n",
       "      <th>4</th>\n",
       "      <td>1004</td>\n",
       "      <td>Leonila</td>\n",
       "      <td>Thompson</td>\n",
       "      <td>40</td>\n",
       "      <td>Seattle-Tacoma-Bellevue, WA MSA</td>\n",
       "      <td>2018-05-23</td>\n",
       "      <td>surf</td>\n",
       "      <td>Activo</td>\n",
       "      <td>1.0</td>\n",
       "      <td>11.08</td>\n",
       "      <td>...</td>\n",
       "      <td>3.0</td>\n",
       "      <td>497.08</td>\n",
       "      <td>-14862.92</td>\n",
       "      <td>0.693147</td>\n",
       "      <td>6.210761</td>\n",
       "      <td>1.386294</td>\n",
       "      <td>0.066667</td>\n",
       "      <td>0.053203</td>\n",
       "      <td>0.200000</td>\n",
       "      <td>Seattle-Tacoma-Bellevue, WA MSA</td>\n",
       "    </tr>\n",
       "  </tbody>\n",
       "</table>\n",
       "<p>5 rows × 32 columns</p>\n",
       "</div>"
      ],
      "text/plain": [
       "   user_id first_name  last_name  age                                   city  \\\n",
       "0     1000   Anamaria      Bauer   45  Atlanta-Sandy Springs-Roswell, GA MSA   \n",
       "1     1001     Mickey  Wilkerson   28        Seattle-Tacoma-Bellevue, WA MSA   \n",
       "2     1002     Carlee    Hoffman   36   Las Vegas-Henderson-Paradise, NV MSA   \n",
       "3     1003   Reynaldo    Jenkins   52                          Tulsa, OK MSA   \n",
       "4     1004    Leonila   Thompson   40        Seattle-Tacoma-Bellevue, WA MSA   \n",
       "\n",
       "     reg_date      plan churn_date  total_calls  total_call_duration  ...  \\\n",
       "0  2018-12-24  ultimate     Activo         15.0               110.98  ...   \n",
       "1  2018-08-13      surf     Activo          4.0                13.46  ...   \n",
       "2  2018-10-21      surf     Activo          7.0                22.31  ...   \n",
       "3  2018-01-28      surf     Activo         15.0                84.56  ...   \n",
       "4  2018-05-23      surf     Activo          1.0                11.08  ...   \n",
       "\n",
       "   total_sms  total_mb  extra_usage  log_total_calls  log_total_mb_used  \\\n",
       "0       11.0   1901.47    -28818.53         2.772589           7.550908   \n",
       "1        4.0   1724.33    -13635.67         1.609438           7.453174   \n",
       "2        5.0   1646.11    -13713.89         2.079442           7.406778   \n",
       "3       15.0   6135.25     -9224.75         2.772589           8.721969   \n",
       "4        3.0    497.08    -14862.92         0.693147           6.210761   \n",
       "\n",
       "   log_total_messages  total_calls_scaled  total_mb_scaled  \\\n",
       "0            2.484907            1.000000         0.203518   \n",
       "1            1.609438            0.266667         0.184558   \n",
       "2            1.791759            0.466667         0.176186   \n",
       "3            2.772589            1.000000         0.656667   \n",
       "4            1.386294            0.066667         0.053203   \n",
       "\n",
       "   total_messages_scaled                                 region  \n",
       "0               0.733333  Atlanta-Sandy Springs-Roswell, GA MSA  \n",
       "1               0.266667        Seattle-Tacoma-Bellevue, WA MSA  \n",
       "2               0.333333   Las Vegas-Henderson-Paradise, NV MSA  \n",
       "3               1.000000                          Tulsa, OK MSA  \n",
       "4               0.200000        Seattle-Tacoma-Bellevue, WA MSA  \n",
       "\n",
       "[5 rows x 32 columns]"
      ]
     },
     "execution_count": 10,
     "metadata": {},
     "output_type": "execute_result"
    }
   ],
   "source": [
    "# Cargar el dataset\n",
    "file_path = r'C:\\Users\\Paul Tandazo\\Desktop\\DataMining Prueba Practica\\data\\ml\\analytic_df_processed.csv'\n",
    "df = pd.read_csv(file_path)\n",
    "\n",
    "# Mostrar las primeras filas del dataset para conocer su estructura\n",
    "df.head()\n"
   ]
  },
  {
   "cell_type": "code",
   "execution_count": 11,
   "metadata": {},
   "outputs": [],
   "source": [
    "# Preprocesamiento de los datos\n",
    "X = df[['total_calls', 'total_call_duration', 'total_internet_sessions', 'total_mb_used', 'total_messages']]\n",
    "y = df['usd_monthly_pay']  # Variable objetivo: el costo mensual del usuario\n",
    "\n"
   ]
  },
  {
   "cell_type": "code",
   "execution_count": 12,
   "metadata": {},
   "outputs": [],
   "source": [
    "# Separar los datos en conjuntos de entrenamiento y prueba\n",
    "X_train, X_test, y_train, y_test = train_test_split(X, y, test_size=0.2, random_state=42)"
   ]
  },
  {
   "cell_type": "markdown",
   "metadata": {},
   "source": [
    "### Entrenar varios modelos de regresion ( Se usó Regresion Lineal, Gradient Descent)"
   ]
  },
  {
   "cell_type": "code",
   "execution_count": 13,
   "metadata": {},
   "outputs": [],
   "source": [
    "# Modelo 1: Regresión Lineal\n",
    "linear_model = LinearRegression()\n",
    "linear_model.fit(X_train, y_train)\n",
    "\n",
    "# Modelo 2: Regresión por Gradient Descent (SGD)\n",
    "sgd_model = SGDRegressor(max_iter=1000, tol=1e-3)\n",
    "sgd_model.fit(X_train, y_train)\n",
    "\n",
    "y_pred_linear = linear_model.predict(X_test)\n",
    "y_pred_sgd = sgd_model.predict(X_test)\n",
    "\n",
    "def evaluate_model(y_true, y_pred):\n",
    "    rmse = np.sqrt(mean_squared_error(y_true, y_pred))\n",
    "    mae = mean_absolute_error(y_true, y_pred)\n",
    "    r2 = r2_score(y_true, y_pred)\n",
    "    return rmse, mae, r2\n",
    "\n",
    "# Evaluación del modelo de Regresión Lineal\n",
    "rmse_linear, mae_linear, r2_linear = evaluate_model(y_test, y_pred_linear)\n",
    "# Evaluación del modelo de Regresión por SGD\n",
    "rmse_sgd, mae_sgd, r2_sgd = evaluate_model(y_test, y_pred_sgd)\n",
    "\n"
   ]
  },
  {
   "cell_type": "code",
   "execution_count": 14,
   "metadata": {},
   "outputs": [
    {
     "name": "stdout",
     "output_type": "stream",
     "text": [
      "Modelo de Regresión Lineal:\n",
      "RMSE: 23.257483947726335\n",
      "MAE: 21.631971557814218\n",
      "R²: 0.005679118421418994\n"
     ]
    }
   ],
   "source": [
    "print(\"Modelo de Regresión Lineal:\")\n",
    "print(f\"RMSE: {rmse_linear}\")\n",
    "print(f\"MAE: {mae_linear}\")\n",
    "print(f\"R²: {r2_linear}\")\n",
    "\n"
   ]
  },
  {
   "cell_type": "code",
   "execution_count": 15,
   "metadata": {},
   "outputs": [
    {
     "name": "stdout",
     "output_type": "stream",
     "text": [
      "\n",
      "Modelo de Regresión por Gradient Descent (SGD):\n",
      "RMSE: 2389675213572983.5\n",
      "MAE: 1710199527718797.0\n",
      "R²: -1.0497330195524054e+28\n"
     ]
    }
   ],
   "source": [
    "print(\"\\nModelo de Regresión por Gradient Descent (SGD):\")\n",
    "print(f\"RMSE: {rmse_sgd}\")\n",
    "print(f\"MAE: {mae_sgd}\")\n",
    "print(f\"R²: {r2_sgd}\")"
   ]
  },
  {
   "cell_type": "code",
   "execution_count": 16,
   "metadata": {},
   "outputs": [
    {
     "name": "stdout",
     "output_type": "stream",
     "text": [
      "\n",
      "El mejor modelo es la Regresión Lineal.\n"
     ]
    }
   ],
   "source": [
    "if r2_linear > r2_sgd:\n",
    "    print(\"\\nEl mejor modelo es la Regresión Lineal.\")\n",
    "else:\n",
    "    print(\"\\nEl mejor modelo es el Gradient Descent (SGD).\")\n"
   ]
  },
  {
   "cell_type": "code",
   "execution_count": null,
   "metadata": {},
   "outputs": [],
   "source": []
  }
 ],
 "metadata": {
  "kernelspec": {
   "display_name": "entorno_1",
   "language": "python",
   "name": "python3"
  },
  "language_info": {
   "codemirror_mode": {
    "name": "ipython",
    "version": 3
   },
   "file_extension": ".py",
   "mimetype": "text/x-python",
   "name": "python",
   "nbconvert_exporter": "python",
   "pygments_lexer": "ipython3",
   "version": "3.10.13"
  }
 },
 "nbformat": 4,
 "nbformat_minor": 2
}
