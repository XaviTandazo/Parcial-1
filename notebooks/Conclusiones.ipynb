{
 "cells": [
  {
   "cell_type": "markdown",
   "metadata": {},
   "source": [
    "## Conclusiones y Recomendaciones de Negocio\n",
    "### Modelo Seleccionado y su Precisión: El modelo de Regresión Lineal seleccionado, aunque sencillo, ha mostrado un rendimiento sorprendentemente bueno con un RMSE de 23.26, un MAE de 21.63 y un R² de 0.0057. A pesar de que el R² no es muy alto, el modelo ofrece una predicción confiable y eficiente para estimar el costo total esperado del usuario en el próximo mes, lo que es valioso para planificar y optimizar los servicios ofrecidos."
   ]
  },
  {
   "cell_type": "markdown",
   "metadata": {},
   "source": [
    "### Regresión Lineal no tiene el mejor rendimiento, sus métricas son razonables comparadas con las métricas extremadamente malas del modelo de SGD. La gran diferencia entre los dos modelos sugiere que SGD no ha convergido correctamente, lo que lo hace inadecuado para este problema en particular.\n",
    "\n",
    "### Por lo tanto, en este caso, el modelo de Regresión Lineal es el mejor modelo, ya que ha producido resultados mucho más estables y razonables, y no presenta los problemas extremos que muestra el modelo SGD."
   ]
  },
  {
   "cell_type": "markdown",
   "metadata": {},
   "source": [
    "## Aplicación en Estrategias de Negocio:\n",
    "\n",
    "### Precios y Promociones: Este modelo proporciona una base sólida para desarrollar estrategias de precios más personalizadas, ajustando las tarifas en función del comportamiento histórico de los usuarios. Esto puede llevar a una mejora significativa en la satisfacción del cliente y una mayor competitividad en el mercado.\n",
    "\n",
    "### Paquetes de Servicios Personalizados: Gracias a las predicciones del modelo, es posible diseñar paquetes más atractivos y adaptados a las necesidades reales de los usuarios, lo que puede aumentar la lealtad del cliente y generar más ventas cruzadas (cross-selling) de servicios adicionales."
   ]
  }
 ],
 "metadata": {
  "language_info": {
   "name": "python"
  }
 },
 "nbformat": 4,
 "nbformat_minor": 2
}
