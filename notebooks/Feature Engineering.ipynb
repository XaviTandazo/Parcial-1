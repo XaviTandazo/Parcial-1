{
 "cells": [
  {
   "cell_type": "markdown",
   "metadata": {},
   "source": [
    "# Feature Engineering"
   ]
  },
  {
   "cell_type": "code",
   "execution_count": 1,
   "metadata": {},
   "outputs": [
    {
     "name": "stdout",
     "output_type": "stream",
     "text": [
      "   user_id first_name  last_name  age                                   city  \\\n",
      "0     1000   Anamaria      Bauer   45  Atlanta-Sandy Springs-Roswell, GA MSA   \n",
      "1     1001     Mickey  Wilkerson   28        Seattle-Tacoma-Bellevue, WA MSA   \n",
      "2     1002     Carlee    Hoffman   36   Las Vegas-Henderson-Paradise, NV MSA   \n",
      "3     1003   Reynaldo    Jenkins   52                          Tulsa, OK MSA   \n",
      "4     1004    Leonila   Thompson   40        Seattle-Tacoma-Bellevue, WA MSA   \n",
      "\n",
      "     reg_date      plan churn_date  total_calls  total_call_duration  ...  \\\n",
      "0  2018-12-24  ultimate     Activo         15.0               110.98  ...   \n",
      "1  2018-08-13      surf     Activo          4.0                13.46  ...   \n",
      "2  2018-10-21      surf     Activo          7.0                22.31  ...   \n",
      "3  2018-01-28      surf     Activo         15.0                84.56  ...   \n",
      "4  2018-05-23      surf     Activo          1.0                11.08  ...   \n",
      "\n",
      "   total_mb_used  total_messages  messages_included  mb_per_month_included  \\\n",
      "0        1901.47            11.0               1000                  30720   \n",
      "1        1724.33             4.0                 50                  15360   \n",
      "2        1646.11             5.0                 50                  15360   \n",
      "3        6135.25            15.0                 50                  15360   \n",
      "4         497.08             3.0                 50                  15360   \n",
      "\n",
      "   minutes_included  usd_monthly_pay  usd_per_gb  usd_per_message  \\\n",
      "0              3000               70           7             0.01   \n",
      "1               500               20          10             0.03   \n",
      "2               500               20          10             0.03   \n",
      "3               500               20          10             0.03   \n",
      "4               500               20          10             0.03   \n",
      "\n",
      "   usd_per_minute  plan_name  \n",
      "0            0.01   ultimate  \n",
      "1            0.03       surf  \n",
      "2            0.03       surf  \n",
      "3            0.03       surf  \n",
      "4            0.03       surf  \n",
      "\n",
      "[5 rows x 21 columns]\n"
     ]
    }
   ],
   "source": [
    "import pandas as pd\n",
    "import numpy as np\n",
    "\n",
    "# Cargar el dataset desde la ruta especificada\n",
    "file_path = r'C:\\Users\\Paul Tandazo\\Desktop\\DataMining Prueba Practica\\data\\semiclean\\analytic_df.csv'\n",
    "df = pd.read_csv(file_path)\n",
    "\n",
    "# Ver las primeras filas del dataset para inspección\n",
    "print(df.head())"
   ]
  },
  {
   "cell_type": "markdown",
   "metadata": {},
   "source": [
    "### Se crean nuevas variables derivadas de las columnas existentes, como el total de minutos usados, el total de mensajes y MB, y se calculan los logs de llamadas, mensajes y MB utilizados para una mejor escala en el análisis."
   ]
  },
  {
   "cell_type": "code",
   "execution_count": 2,
   "metadata": {},
   "outputs": [],
   "source": [
    "# Crear nuevas variables basadas en las columnas existentes:\n",
    "df['total_minutes_used'] = df['total_calls'] * df['total_call_duration']  # Total de minutos usados\n",
    "df['total_sms'] = df['total_messages']  # Total de mensajes\n",
    "df['total_mb'] = df['total_mb_used']  # Total de MB \n",
    "\n",
    "df['extra_usage'] = df['total_mb_used'] - df['mb_per_month_included']  \n",
    "\n",
    "df['log_total_calls'] = np.log1p(df['total_calls'])  \n",
    "df['log_total_mb_used'] = np.log1p(df['total_mb_used']) \n",
    "df['log_total_messages'] = np.log1p(df['total_messages'])  \n"
   ]
  },
  {
   "cell_type": "markdown",
   "metadata": {},
   "source": [
    "### Se realiza un escalado de las variables total_calls, total_mb_used y total_messages usando MinMaxScaler para normalizarlas entre 0 y 1. Además, se asigna la ciudad como una categoría de región y se imprime las primeras filas del DataFrame."
   ]
  },
  {
   "cell_type": "code",
   "execution_count": 3,
   "metadata": {},
   "outputs": [
    {
     "name": "stdout",
     "output_type": "stream",
     "text": [
      "   user_id first_name  last_name  age                                   city  \\\n",
      "0     1000   Anamaria      Bauer   45  Atlanta-Sandy Springs-Roswell, GA MSA   \n",
      "1     1001     Mickey  Wilkerson   28        Seattle-Tacoma-Bellevue, WA MSA   \n",
      "2     1002     Carlee    Hoffman   36   Las Vegas-Henderson-Paradise, NV MSA   \n",
      "3     1003   Reynaldo    Jenkins   52                          Tulsa, OK MSA   \n",
      "4     1004    Leonila   Thompson   40        Seattle-Tacoma-Bellevue, WA MSA   \n",
      "\n",
      "     reg_date      plan churn_date  total_calls  total_call_duration  ...  \\\n",
      "0  2018-12-24  ultimate     Activo         15.0               110.98  ...   \n",
      "1  2018-08-13      surf     Activo          4.0                13.46  ...   \n",
      "2  2018-10-21      surf     Activo          7.0                22.31  ...   \n",
      "3  2018-01-28      surf     Activo         15.0                84.56  ...   \n",
      "4  2018-05-23      surf     Activo          1.0                11.08  ...   \n",
      "\n",
      "   total_sms  total_mb  extra_usage  log_total_calls  log_total_mb_used  \\\n",
      "0       11.0   1901.47    -28818.53         2.772589           7.550908   \n",
      "1        4.0   1724.33    -13635.67         1.609438           7.453174   \n",
      "2        5.0   1646.11    -13713.89         2.079442           7.406778   \n",
      "3       15.0   6135.25     -9224.75         2.772589           8.721969   \n",
      "4        3.0    497.08    -14862.92         0.693147           6.210761   \n",
      "\n",
      "   log_total_messages  total_calls_scaled  total_mb_scaled  \\\n",
      "0            2.484907            1.000000         0.203518   \n",
      "1            1.609438            0.266667         0.184558   \n",
      "2            1.791759            0.466667         0.176186   \n",
      "3            2.772589            1.000000         0.656667   \n",
      "4            1.386294            0.066667         0.053203   \n",
      "\n",
      "   total_messages_scaled                                 region  \n",
      "0               0.733333  Atlanta-Sandy Springs-Roswell, GA MSA  \n",
      "1               0.266667        Seattle-Tacoma-Bellevue, WA MSA  \n",
      "2               0.333333   Las Vegas-Henderson-Paradise, NV MSA  \n",
      "3               1.000000                          Tulsa, OK MSA  \n",
      "4               0.200000        Seattle-Tacoma-Bellevue, WA MSA  \n",
      "\n",
      "[5 rows x 32 columns]\n"
     ]
    }
   ],
   "source": [
    "# Escalado de variables: por ejemplo, usando MinMaxScaler\n",
    "from sklearn.preprocessing import MinMaxScaler\n",
    "scaler = MinMaxScaler()\n",
    "df[['total_calls_scaled', 'total_mb_scaled', 'total_messages_scaled']] = scaler.fit_transform(df[['total_calls', 'total_mb_used', 'total_messages']])\n",
    "\n",
    "df['age'] = df['age'] \n",
    "df['region'] = df['city']  # Aquí puedes asignar la ciudad como una categoría o región\n",
    "\n",
    "print(df.head())"
   ]
  },
  {
   "cell_type": "code",
   "execution_count": 4,
   "metadata": {},
   "outputs": [
    {
     "name": "stdout",
     "output_type": "stream",
     "text": [
      "El dataset procesado ha sido guardado en: C:\\Users\\Paul Tandazo\\Desktop\\DataMining Prueba Practica\\data\\ml\\analytic_df_processed.csv\n"
     ]
    }
   ],
   "source": [
    "# Guardar el DataFrame modificado en la misma ubicación con un nuevo nombre\n",
    "output_file_path = r'C:\\Users\\Paul Tandazo\\Desktop\\DataMining Prueba Practica\\data\\ml\\analytic_df_processed.csv'\n",
    "df.to_csv(output_file_path, index=False)\n",
    "\n",
    "print(f\"El dataset procesado ha sido guardado en: {output_file_path}\")\n"
   ]
  }
 ],
 "metadata": {
  "kernelspec": {
   "display_name": "entorno_1",
   "language": "python",
   "name": "python3"
  },
  "language_info": {
   "codemirror_mode": {
    "name": "ipython",
    "version": 3
   },
   "file_extension": ".py",
   "mimetype": "text/x-python",
   "name": "python",
   "nbconvert_exporter": "python",
   "pygments_lexer": "ipython3",
   "version": "3.10.13"
  }
 },
 "nbformat": 4,
 "nbformat_minor": 2
}
