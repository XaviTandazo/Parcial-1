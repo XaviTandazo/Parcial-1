{
 "cells": [
  {
   "cell_type": "markdown",
   "metadata": {},
   "source": [
    "# Data Wrangling (Esto fue lo más difícil :'v)"
   ]
  },
  {
   "cell_type": "code",
   "execution_count": null,
   "metadata": {},
   "outputs": [],
   "source": [
    "import pandas as pd\n",
    "import os\n",
    "import seaborn as sns\n",
    "import matplotlib.pyplot as plt\n",
    "from sklearn.preprocessing import StandardScaler, MinMaxScaler\n",
    "from scipy import stats \n",
    "import numpy as np\n"
   ]
  },
  {
   "cell_type": "code",
   "execution_count": 112,
   "metadata": {},
   "outputs": [],
   "source": [
    "# Ruta de la carpeta que contiene los archivos CSV\n",
    "data_path = r\"C:\\Users\\Paul Tandazo\\Desktop\\DataMining Prueba Practica\\data\\raw\"\n",
    "\n",
    "# Cargar los datasets con la ruta completa\n",
    "calls = pd.read_csv(os.path.join(data_path, \"megaline_calls.csv\"))\n",
    "internet = pd.read_csv(os.path.join(data_path, \"megaline_internet.csv\"))\n",
    "users = pd.read_csv(os.path.join(data_path, \"megaline_users.csv\"))\n",
    "plans = pd.read_csv(os.path.join(data_path, \"megaline_plans.csv\"))\n",
    "messages = pd.read_csv(os.path.join(data_path, \"megaline_messages.csv\"))\n",
    "churn = pd.read_csv(os.path.join(data_path, \"churn.csv\"))"
   ]
  },
  {
   "cell_type": "markdown",
   "metadata": {},
   "source": [
    "### La función miss muestra los valores faltantes en un DataFrame. "
   ]
  },
  {
   "cell_type": "code",
   "execution_count": 113,
   "metadata": {},
   "outputs": [],
   "source": [
    "def miss(df, name):\n",
    "    print(f\"\\nValores faltantes en el dataset: {name}\")\n",
    "    missing = df.isnull().sum()\n",
    "    print(missing[missing > 0])\n",
    "    print(f\"Total de valores faltantes: {missing.sum()}\")"
   ]
  },
  {
   "cell_type": "code",
   "execution_count": 114,
   "metadata": {},
   "outputs": [
    {
     "name": "stdout",
     "output_type": "stream",
     "text": [
      "\n",
      "Valores faltantes en el dataset: megaline_calls\n",
      "Series([], dtype: int64)\n",
      "Total de valores faltantes: 0\n",
      "\n",
      "Valores faltantes en el dataset: megaline_internet\n",
      "Series([], dtype: int64)\n",
      "Total de valores faltantes: 0\n",
      "\n",
      "Valores faltantes en el dataset: megaline_users\n",
      "churn_date    466\n",
      "dtype: int64\n",
      "Total de valores faltantes: 466\n",
      "\n",
      "Valores faltantes en el dataset: megaline_plans\n",
      "Series([], dtype: int64)\n",
      "Total de valores faltantes: 0\n",
      "\n",
      "Valores faltantes en el dataset: megaline_messages\n",
      "Series([], dtype: int64)\n",
      "Total de valores faltantes: 0\n",
      "\n",
      "Valores faltantes en el dataset: churn\n",
      "Tenure    909\n",
      "dtype: int64\n",
      "Total de valores faltantes: 909\n"
     ]
    }
   ],
   "source": [
    "miss(calls, \"megaline_calls\")\n",
    "miss(internet, \"megaline_internet\")\n",
    "miss(users, \"megaline_users\")\n",
    "miss(plans, \"megaline_plans\")\n",
    "miss(messages, \"megaline_messages\")\n",
    "miss(churn, \"churn\")"
   ]
  },
  {
   "cell_type": "markdown",
   "metadata": {},
   "source": [
    "### Imputación de valores nulos"
   ]
  },
  {
   "cell_type": "code",
   "execution_count": 115,
   "metadata": {},
   "outputs": [],
   "source": [
    "# Dataset churn - columna 'Tenure'\n",
    "churn['Tenure'] = churn['Tenure'].fillna(churn['Tenure'].mean())"
   ]
  },
  {
   "cell_type": "code",
   "execution_count": 116,
   "metadata": {},
   "outputs": [
    {
     "name": "stdout",
     "output_type": "stream",
     "text": [
      "Valores faltantes después de la imputación:\n",
      "churn 'Tenure': 0 faltantes\n"
     ]
    }
   ],
   "source": [
    "print(\"Valores faltantes después de la imputación:\")\n",
    "print(f\"churn 'Tenure': {churn['Tenure'].isnull().sum()} faltantes\")"
   ]
  },
  {
   "cell_type": "code",
   "execution_count": 117,
   "metadata": {},
   "outputs": [],
   "source": [
    "# Dataset megaline_users - columna 'churn_date' se imputa con 'Activo' porque es categórica\n",
    "users['churn_date'] = users['churn_date'].fillna('Activo')"
   ]
  },
  {
   "cell_type": "code",
   "execution_count": 118,
   "metadata": {},
   "outputs": [
    {
     "name": "stdout",
     "output_type": "stream",
     "text": [
      "Valores faltantes después de la imputación:\n",
      "megaline_users 'churn_date': 0 faltantes\n"
     ]
    }
   ],
   "source": [
    "print(\"Valores faltantes después de la imputación:\")\n",
    "print(f\"megaline_users 'churn_date': {users['churn_date'].isnull().sum()} faltantes\")"
   ]
  },
  {
   "cell_type": "markdown",
   "metadata": {},
   "source": [
    "### Detectar outliers y tratarlos"
   ]
  },
  {
   "cell_type": "code",
   "execution_count": 119,
   "metadata": {},
   "outputs": [],
   "source": [
    "def detectar_outliers_internet(df):\n",
    "    # Agrupar por user_id y sumar el uso total de datos (mb_used) por usuario\n",
    "    uso_datos = df.groupby('user_id')['mb_used'].sum().reset_index(name='total_data_usage')\n",
    "    \n",
    "    # Calcular el IQR (rango intercuartílico)\n",
    "    Q1 = uso_datos['total_data_usage'].quantile(0.25)\n",
    "    Q3 = uso_datos['total_data_usage'].quantile(0.75)\n",
    "    IQR = Q3 - Q1\n",
    "\n",
    "    # Establecer los límites para detectar outliers\n",
    "    lim_in = Q1 - 1.5 * IQR\n",
    "    lim_sup = Q3 + 1.5 * IQR\n",
    "    outliers_datos = uso_datos[(uso_datos['total_data_usage'] < lim_in) | (uso_datos['total_data_usage'] > lim_sup)]\n",
    "    \n",
    "    print(f\"Outliers en el uso de datos (por IQR): {outliers_datos.shape[0]} registros\")\n",
    "    \n",
    "    # Graficar un boxplot del uso total de datos por usuario\n",
    "    plt.figure(figsize=(8,6))\n",
    "    sns.boxplot(x=uso_datos['total_data_usage'])\n",
    "    plt.title(f'Boxplot de uso total de datos por usuario')\n",
    "    plt.show()\n",
    "\n",
    "    return uso_datos, outliers_datos"
   ]
  },
  {
   "cell_type": "code",
   "execution_count": 120,
   "metadata": {},
   "outputs": [
    {
     "name": "stdout",
     "output_type": "stream",
     "text": [
      "Outliers en el uso de datos (por IQR): 8 registros\n"
     ]
    },
    {
     "data": {
      "image/png": "[encoded data removed]",
      "text/plain": [
       "<Figure size 800x600 with 1 Axes>"
      ]
     },
     "metadata": {},
     "output_type": "display_data"
    }
   ],
   "source": [
    "datos, outliers = detectar_outliers_internet(internet)"
   ]
  },
  {
   "cell_type": "code",
   "execution_count": 121,
   "metadata": {},
   "outputs": [],
   "source": [
    "def detectar_outliers_sms(df):\n",
    "    # Contar el número de mensajes por usuario\n",
    "    mensaje_counts = df.groupby('user_id').size().reset_index(name='num_messages')\n",
    "    \n",
    "    # Aplicar el análisis IQR sobre la cantidad de mensajes por usuario\n",
    "    Q1 = mensaje_counts['num_messages'].quantile(0.25)\n",
    "    Q3 = mensaje_counts['num_messages'].quantile(0.75)\n",
    "    IQR = Q3 - Q1\n",
    "\n",
    "    # Limites\n",
    "    lim_in = Q1 - 1.5 * IQR\n",
    "    lim_sup = Q3 + 1.5 * IQR\n",
    "    outliers_sms = mensaje_counts[(mensaje_counts['num_messages'] < lim_in) | (mensaje_counts['num_messages'] > lim_sup)]\n",
    "    \n",
    "    print(f\"Outliers en mensajes (por IQR): {outliers_sms.shape[0]} registros\")\n",
    "    \n",
    "    # Boxplot\n",
    "    plt.figure(figsize=(8,6))\n",
    "    sns.boxplot(x=mensaje_counts['num_messages'])\n",
    "    plt.title(f'Boxplot de mensajes por usuario')\n",
    "    plt.show()\n",
    "\n",
    "    return mensaje_counts, outliers_sms"
   ]
  },
  {
   "cell_type": "code",
   "execution_count": 122,
   "metadata": {},
   "outputs": [
    {
     "name": "stdout",
     "output_type": "stream",
     "text": [
      "Outliers en mensajes (por IQR): 20 registros\n"
     ]
    },
    {
     "data": {
      "image/png": "[encoded data removed]",
      "text/plain": [
       "<Figure size 800x600 with 1 Axes>"
      ]
     },
     "metadata": {},
     "output_type": "display_data"
    }
   ],
   "source": [
    "outliers_sms = detectar_outliers_sms(messages)"
   ]
  },
  {
   "cell_type": "code",
   "execution_count": 123,
   "metadata": {},
   "outputs": [],
   "source": [
    "def detectar_outliers_llamadas(df):\n",
    "    # Contar el número de llamadas por usuario\n",
    "    llamada_counts = df.groupby('user_id')['duration'].sum().reset_index(name='total_duration')\n",
    "    \n",
    "    # Aplicar el análisis IQR sobre la duración total de las llamadas por usuario\n",
    "    Q1 = llamada_counts['total_duration'].quantile(0.25)\n",
    "    Q3 = llamada_counts['total_duration'].quantile(0.75)\n",
    "    IQR = Q3 - Q1\n",
    "\n",
    "    # Limites para detectar outliers\n",
    "    lim_in = Q1 - 1.5 * IQR\n",
    "    lim_sup = Q3 + 1.5 * IQR\n",
    "    outliers_llamadas = llamada_counts[(llamada_counts['total_duration'] < lim_in) | (llamada_counts['total_duration'] > lim_sup)]\n",
    "    \n",
    "    print(f\"Outliers en duración de llamadas (por IQR): {outliers_llamadas.shape[0]} registros\")\n",
    "    \n",
    "    # Boxplot\n",
    "    plt.figure(figsize=(8,6))\n",
    "    sns.boxplot(x=llamada_counts['total_duration'])\n",
    "    plt.title(f'Boxplot de duración total de llamadas por usuario')\n",
    "    plt.show()\n",
    "\n",
    "    return llamada_counts, outliers_llamadas\n"
   ]
  },
  {
   "cell_type": "code",
   "execution_count": 124,
   "metadata": {},
   "outputs": [
    {
     "name": "stdout",
     "output_type": "stream",
     "text": [
      "Outliers en duración de llamadas (por IQR): 16 registros\n"
     ]
    },
    {
     "data": {
      "image/png": "[encoded data removed]",
      "text/plain": [
       "<Figure size 800x600 with 1 Axes>"
      ]
     },
     "metadata": {},
     "output_type": "display_data"
    }
   ],
   "source": [
    "llamadas, outliers = detectar_outliers_llamadas(calls)"
   ]
  },
  {
   "cell_type": "code",
   "execution_count": null,
   "metadata": {},
   "outputs": [],
   "source": [
    "\n",
    "def tratar_outliers_escalado(df, columna):\n",
    "    # Calcular el Z-score para la columna especificada\n",
    "    z_scores = stats.zscore(df[columna])\n",
    "    \n",
    "    # Definir un umbral para considerar outliers (por ejemplo, z-score > 3 o < -3)\n",
    "    umbral_outlier = 3\n",
    "    \n",
    "    # Detectar los índices de los outliers\n",
    "    outliers = np.where(np.abs(z_scores) > umbral_outlier)[0]\n",
    "    \n",
    "    # Imprimir la cantidad de outliers detectados\n",
    "    print(f\"Outliers detectados (por z-score > {umbral_outlier}): {len(outliers)} registros\")\n",
    "    \n",
    "    # Sustituir los valores de outliers por el valor medio de la columna\n",
    "    media_columna = df[columna].mean()\n",
    "    df.loc[outliers, columna] = media_columna\n",
    "    \n",
    "    # Retornar el DataFrame con los outliers tratados\n",
    "    return df\n"
   ]
  },
  {
   "cell_type": "code",
   "execution_count": 126,
   "metadata": {},
   "outputs": [
    {
     "name": "stdout",
     "output_type": "stream",
     "text": [
      "Outliers detectados (por z-score > 3): 371 registros\n"
     ]
    }
   ],
   "source": [
    "internet_tratado = tratar_outliers_escalado(internet, 'mb_used')"
   ]
  },
  {
   "cell_type": "code",
   "execution_count": 127,
   "metadata": {},
   "outputs": [
    {
     "name": "stdout",
     "output_type": "stream",
     "text": [
      "Outliers detectados (por z-score > 3): 635 registros\n"
     ]
    }
   ],
   "source": [
    "llamadas_tratado = tratar_outliers_escalado(calls, \"duration\")"
   ]
  },
  {
   "cell_type": "code",
   "execution_count": 182,
   "metadata": {},
   "outputs": [],
   "source": [
    "users['is_churned'] = users['churn_date'].notnull().astype(int)"
   ]
  },
  {
   "cell_type": "code",
   "execution_count": 184,
   "metadata": {},
   "outputs": [],
   "source": [
    "# Rango de fecha\n",
    "\n",
    "from datetime import datetime\n",
    "start_period = datetime(2018, 12, 1)\n",
    "end_period   = datetime(2018, 12, 31, 23, 59, 59)"
   ]
  },
  {
   "cell_type": "code",
   "execution_count": 129,
   "metadata": {},
   "outputs": [],
   "source": [
    "# Definir la ruta donde se guardarán los archivos\n",
    "data_path = r\"C:\\Users\\Paul Tandazo\\Desktop\\DataMining Prueba Practica\\data\\semiclean\"\n",
    "\n",
    "# Guardar los archivos con los cambios realizados\n",
    "llamadas_tratado.to_csv(os.path.join(data_path, \"megaline_calls.csv\"), index=False)\n",
    "internet_tratado.to_csv(os.path.join(data_path, \"megaline_internet.csv\"), index=False)\n",
    "messages.to_csv(os.path.join(data_path, \"megaline_messages.csv\"), index=False)\n",
    "users.to_csv(os.path.join(data_path, \"megaline_users.csv\"), index=False)\n",
    "plans.to_csv(os.path.join(data_path, \"megaline_plans.csv\"), index=False)\n",
    "churn.to_csv(os.path.join(data_path, \"churn.csv\"), index=False)\n"
   ]
  },
  {
   "cell_type": "code",
   "execution_count": 187,
   "metadata": {},
   "outputs": [],
   "source": [
    "# Asegurarse de que las columnas de fecha están en el formato datetime\n",
    "calls['call_date'] = pd.to_datetime(calls['call_date'], errors='coerce')\n",
    "internet['session_date'] = pd.to_datetime(internet['session_date'], errors='coerce')\n",
    "messages['message_date'] = pd.to_datetime(messages['message_date'], errors='coerce')\n",
    "\n",
    "# Filtrar registros en ese rango (en caso de que existan datos de otros periodos)\n",
    "calls_period = calls[(calls['call_date'] >= start_period) & (calls['call_date'] <= end_period)]\n",
    "internet_period = internet[(internet['session_date'] >= start_period) & (internet['session_date'] <= end_period)]\n",
    "messages_period = messages[(messages['message_date'] >= start_period) & (messages['message_date'] <= end_period)]\n",
    "\n",
    "# Agregar llamadas por usuario: cantidad de llamadas y suma de duración\n",
    "calls_agg = calls_period.groupby('user_id').agg(\n",
    "    total_calls=('id', 'count'),\n",
    "    total_call_duration=('duration', 'sum')\n",
    ").reset_index()\n",
    "\n",
    "# Agregar internet por usuario: cantidad de sesiones y total MB usados\n",
    "internet_agg = internet_period.groupby('user_id').agg(\n",
    "    total_internet_sessions=('id', 'count'),\n",
    "    total_mb_used=('mb_used', 'sum')\n",
    ").reset_index()\n",
    "\n",
    "# Agregar mensajes por usuario: cantidad total de mensajes enviados\n",
    "messages_agg = messages_period.groupby('user_id').agg(\n",
    "    total_messages=('id', 'count')\n",
    ").reset_index()\n"
   ]
  },
  {
   "cell_type": "code",
   "execution_count": 188,
   "metadata": {},
   "outputs": [],
   "source": [
    "# Definir la ruta donde se guardarán los archivos\n",
    "data_path = r\"C:\\Users\\Paul Tandazo\\Desktop\\DataMining Prueba Practica\\data\\semiclean\"\n",
    "# Cargar los datasets con la ruta completa\n",
    "calls = pd.read_csv(os.path.join(data_path, \"megaline_calls.csv\"))\n",
    "internet = pd.read_csv(os.path.join(data_path, \"megaline_internet.csv\"))\n",
    "users = pd.read_csv(os.path.join(data_path, \"megaline_users.csv\"))\n",
    "plans = pd.read_csv(os.path.join(data_path, \"megaline_plans.csv\"))\n",
    "messages = pd.read_csv(os.path.join(data_path, \"megaline_messages.csv\"))\n",
    "churn = pd.read_csv(os.path.join(data_path, \"churn.csv\"))"
   ]
  },
  {
   "cell_type": "markdown",
   "metadata": {},
   "source": [
    "### Unificacion de las tablas para crear un dataset analtico que permita entrenar un modelo"
   ]
  },
  {
   "cell_type": "code",
   "execution_count": 195,
   "metadata": {},
   "outputs": [],
   "source": [
    "analytic_df = users.copy()\n",
    "\n",
    "# Unir llamadas\n",
    "analytic_df = analytic_df.merge(calls_agg, on='user_id', how='left')\n",
    "# Unir internet\n",
    "analytic_df = analytic_df.merge(internet_agg, on='user_id', how='left')\n",
    "# Unir mensajes\n",
    "analytic_df = analytic_df.merge(messages_agg, on='user_id', how='left')\n",
    "\n",
    "# Rellenar con 0 los NaN\n",
    "analytic_df['total_calls'] = analytic_df['total_calls'].fillna(0)\n",
    "analytic_df['total_call_duration'] = analytic_df['total_call_duration'].fillna(0)\n",
    "analytic_df['total_internet_sessions'] = analytic_df['total_internet_sessions'].fillna(0)\n",
    "analytic_df['total_mb_used'] = analytic_df['total_mb_used'].fillna(0)\n",
    "analytic_df['total_messages'] = analytic_df['total_messages'].fillna(0)\n",
    "analytic_df = analytic_df.merge(plans, left_on='plan', right_on='plan_name', how='left')"
   ]
  },
  {
   "cell_type": "code",
   "execution_count": 197,
   "metadata": {},
   "outputs": [
    {
     "data": {
      "text/html": [
       "<div>\n",
       "<style scoped>\n",
       "    .dataframe tbody tr th:only-of-type {\n",
       "        vertical-align: middle;\n",
       "    }\n",
       "\n",
       "    .dataframe tbody tr th {\n",
       "        vertical-align: top;\n",
       "    }\n",
       "\n",
       "    .dataframe thead th {\n",
       "        text-align: right;\n",
       "    }\n",
       "</style>\n",
       "<table border=\"1\" class=\"dataframe\">\n",
       "  <thead>\n",
       "    <tr style=\"text-align: right;\">\n",
       "      <th></th>\n",
       "      <th>user_id</th>\n",
       "      <th>first_name</th>\n",
       "      <th>last_name</th>\n",
       "      <th>age</th>\n",
       "      <th>city</th>\n",
       "      <th>reg_date</th>\n",
       "      <th>plan</th>\n",
       "      <th>churn_date</th>\n",
       "      <th>total_calls</th>\n",
       "      <th>total_call_duration</th>\n",
       "      <th>...</th>\n",
       "      <th>total_mb_used</th>\n",
       "      <th>total_messages</th>\n",
       "      <th>messages_included</th>\n",
       "      <th>mb_per_month_included</th>\n",
       "      <th>minutes_included</th>\n",
       "      <th>usd_monthly_pay</th>\n",
       "      <th>usd_per_gb</th>\n",
       "      <th>usd_per_message</th>\n",
       "      <th>usd_per_minute</th>\n",
       "      <th>plan_name</th>\n",
       "    </tr>\n",
       "  </thead>\n",
       "  <tbody>\n",
       "    <tr>\n",
       "      <th>0</th>\n",
       "      <td>1000</td>\n",
       "      <td>Anamaria</td>\n",
       "      <td>Bauer</td>\n",
       "      <td>45</td>\n",
       "      <td>Atlanta-Sandy Springs-Roswell, GA MSA</td>\n",
       "      <td>2018-12-24</td>\n",
       "      <td>ultimate</td>\n",
       "      <td>Activo</td>\n",
       "      <td>15.0</td>\n",
       "      <td>110.98</td>\n",
       "      <td>...</td>\n",
       "      <td>1901.47</td>\n",
       "      <td>11.0</td>\n",
       "      <td>1000</td>\n",
       "      <td>30720</td>\n",
       "      <td>3000</td>\n",
       "      <td>70</td>\n",
       "      <td>7</td>\n",
       "      <td>0.01</td>\n",
       "      <td>0.01</td>\n",
       "      <td>ultimate</td>\n",
       "    </tr>\n",
       "    <tr>\n",
       "      <th>1</th>\n",
       "      <td>1001</td>\n",
       "      <td>Mickey</td>\n",
       "      <td>Wilkerson</td>\n",
       "      <td>28</td>\n",
       "      <td>Seattle-Tacoma-Bellevue, WA MSA</td>\n",
       "      <td>2018-08-13</td>\n",
       "      <td>surf</td>\n",
       "      <td>Activo</td>\n",
       "      <td>4.0</td>\n",
       "      <td>13.46</td>\n",
       "      <td>...</td>\n",
       "      <td>1724.33</td>\n",
       "      <td>4.0</td>\n",
       "      <td>50</td>\n",
       "      <td>15360</td>\n",
       "      <td>500</td>\n",
       "      <td>20</td>\n",
       "      <td>10</td>\n",
       "      <td>0.03</td>\n",
       "      <td>0.03</td>\n",
       "      <td>surf</td>\n",
       "    </tr>\n",
       "    <tr>\n",
       "      <th>2</th>\n",
       "      <td>1002</td>\n",
       "      <td>Carlee</td>\n",
       "      <td>Hoffman</td>\n",
       "      <td>36</td>\n",
       "      <td>Las Vegas-Henderson-Paradise, NV MSA</td>\n",
       "      <td>2018-10-21</td>\n",
       "      <td>surf</td>\n",
       "      <td>Activo</td>\n",
       "      <td>7.0</td>\n",
       "      <td>22.31</td>\n",
       "      <td>...</td>\n",
       "      <td>1646.11</td>\n",
       "      <td>5.0</td>\n",
       "      <td>50</td>\n",
       "      <td>15360</td>\n",
       "      <td>500</td>\n",
       "      <td>20</td>\n",
       "      <td>10</td>\n",
       "      <td>0.03</td>\n",
       "      <td>0.03</td>\n",
       "      <td>surf</td>\n",
       "    </tr>\n",
       "    <tr>\n",
       "      <th>3</th>\n",
       "      <td>1003</td>\n",
       "      <td>Reynaldo</td>\n",
       "      <td>Jenkins</td>\n",
       "      <td>52</td>\n",
       "      <td>Tulsa, OK MSA</td>\n",
       "      <td>2018-01-28</td>\n",
       "      <td>surf</td>\n",
       "      <td>Activo</td>\n",
       "      <td>15.0</td>\n",
       "      <td>84.56</td>\n",
       "      <td>...</td>\n",
       "      <td>6135.25</td>\n",
       "      <td>15.0</td>\n",
       "      <td>50</td>\n",
       "      <td>15360</td>\n",
       "      <td>500</td>\n",
       "      <td>20</td>\n",
       "      <td>10</td>\n",
       "      <td>0.03</td>\n",
       "      <td>0.03</td>\n",
       "      <td>surf</td>\n",
       "    </tr>\n",
       "    <tr>\n",
       "      <th>4</th>\n",
       "      <td>1004</td>\n",
       "      <td>Leonila</td>\n",
       "      <td>Thompson</td>\n",
       "      <td>40</td>\n",
       "      <td>Seattle-Tacoma-Bellevue, WA MSA</td>\n",
       "      <td>2018-05-23</td>\n",
       "      <td>surf</td>\n",
       "      <td>Activo</td>\n",
       "      <td>1.0</td>\n",
       "      <td>11.08</td>\n",
       "      <td>...</td>\n",
       "      <td>497.08</td>\n",
       "      <td>3.0</td>\n",
       "      <td>50</td>\n",
       "      <td>15360</td>\n",
       "      <td>500</td>\n",
       "      <td>20</td>\n",
       "      <td>10</td>\n",
       "      <td>0.03</td>\n",
       "      <td>0.03</td>\n",
       "      <td>surf</td>\n",
       "    </tr>\n",
       "  </tbody>\n",
       "</table>\n",
       "<p>5 rows × 21 columns</p>\n",
       "</div>"
      ],
      "text/plain": [
       "   user_id first_name  last_name  age                                   city  \\\n",
       "0     1000   Anamaria      Bauer   45  Atlanta-Sandy Springs-Roswell, GA MSA   \n",
       "1     1001     Mickey  Wilkerson   28        Seattle-Tacoma-Bellevue, WA MSA   \n",
       "2     1002     Carlee    Hoffman   36   Las Vegas-Henderson-Paradise, NV MSA   \n",
       "3     1003   Reynaldo    Jenkins   52                          Tulsa, OK MSA   \n",
       "4     1004    Leonila   Thompson   40        Seattle-Tacoma-Bellevue, WA MSA   \n",
       "\n",
       "     reg_date      plan churn_date  total_calls  total_call_duration  ...  \\\n",
       "0  2018-12-24  ultimate     Activo         15.0               110.98  ...   \n",
       "1  2018-08-13      surf     Activo          4.0                13.46  ...   \n",
       "2  2018-10-21      surf     Activo          7.0                22.31  ...   \n",
       "3  2018-01-28      surf     Activo         15.0                84.56  ...   \n",
       "4  2018-05-23      surf     Activo          1.0                11.08  ...   \n",
       "\n",
       "   total_mb_used  total_messages  messages_included  mb_per_month_included  \\\n",
       "0        1901.47            11.0               1000                  30720   \n",
       "1        1724.33             4.0                 50                  15360   \n",
       "2        1646.11             5.0                 50                  15360   \n",
       "3        6135.25            15.0                 50                  15360   \n",
       "4         497.08             3.0                 50                  15360   \n",
       "\n",
       "   minutes_included  usd_monthly_pay  usd_per_gb  usd_per_message  \\\n",
       "0              3000               70           7             0.01   \n",
       "1               500               20          10             0.03   \n",
       "2               500               20          10             0.03   \n",
       "3               500               20          10             0.03   \n",
       "4               500               20          10             0.03   \n",
       "\n",
       "   usd_per_minute  plan_name  \n",
       "0            0.01   ultimate  \n",
       "1            0.03       surf  \n",
       "2            0.03       surf  \n",
       "3            0.03       surf  \n",
       "4            0.03       surf  \n",
       "\n",
       "[5 rows x 21 columns]"
      ]
     },
     "execution_count": 197,
     "metadata": {},
     "output_type": "execute_result"
    }
   ],
   "source": [
    "analytic_df.head()"
   ]
  },
  {
   "cell_type": "code",
   "execution_count": 196,
   "metadata": {},
   "outputs": [
    {
     "ename": "PermissionError",
     "evalue": "[Errno 13] Permission denied: 'C:\\\\Users\\\\Paul Tandazo\\\\Desktop\\\\DataMining Prueba Practica\\\\data\\\\semiclean\\\\analytic_df.csv'",
     "output_type": "error",
     "traceback": [
      "\u001b[1;31m---------------------------------------------------------------------------\u001b[0m",
      "\u001b[1;31mPermissionError\u001b[0m                           Traceback (most recent call last)",
      "Cell \u001b[1;32mIn[196], line 3\u001b[0m\n\u001b[0;32m      1\u001b[0m \u001b[38;5;66;03m# Exportar el DataFrame analytic_df a un archivo CSV en la ruta especificada\u001b[39;00m\n\u001b[0;32m      2\u001b[0m output_path \u001b[38;5;241m=\u001b[39m \u001b[38;5;124mr\u001b[39m\u001b[38;5;124m\"\u001b[39m\u001b[38;5;124mC:\u001b[39m\u001b[38;5;124m\\\u001b[39m\u001b[38;5;124mUsers\u001b[39m\u001b[38;5;124m\\\u001b[39m\u001b[38;5;124mPaul Tandazo\u001b[39m\u001b[38;5;124m\\\u001b[39m\u001b[38;5;124mDesktop\u001b[39m\u001b[38;5;124m\\\u001b[39m\u001b[38;5;124mDataMining Prueba Practica\u001b[39m\u001b[38;5;124m\\\u001b[39m\u001b[38;5;124mdata\u001b[39m\u001b[38;5;124m\\\u001b[39m\u001b[38;5;124msemiclean\u001b[39m\u001b[38;5;124m\\\u001b[39m\u001b[38;5;124manalytic_df.csv\u001b[39m\u001b[38;5;124m\"\u001b[39m\n\u001b[1;32m----> 3\u001b[0m \u001b[43manalytic_df\u001b[49m\u001b[38;5;241;43m.\u001b[39;49m\u001b[43mto_csv\u001b[49m\u001b[43m(\u001b[49m\u001b[43moutput_path\u001b[49m\u001b[43m,\u001b[49m\u001b[43m \u001b[49m\u001b[43mindex\u001b[49m\u001b[38;5;241;43m=\u001b[39;49m\u001b[38;5;28;43;01mFalse\u001b[39;49;00m\u001b[43m)\u001b[49m\n\u001b[0;32m      5\u001b[0m \u001b[38;5;28mprint\u001b[39m(\u001b[38;5;124mf\u001b[39m\u001b[38;5;124m\"\u001b[39m\u001b[38;5;124mEl archivo se ha exportado correctamente a \u001b[39m\u001b[38;5;132;01m{\u001b[39;00moutput_path\u001b[38;5;132;01m}\u001b[39;00m\u001b[38;5;124m\"\u001b[39m)\n",
      "File \u001b[1;32mc:\\Users\\Paul Tandazo\\.conda\\envs\\entorno_1\\lib\\site-packages\\pandas\\core\\generic.py:3772\u001b[0m, in \u001b[0;36mNDFrame.to_csv\u001b[1;34m(self, path_or_buf, sep, na_rep, float_format, columns, header, index, index_label, mode, encoding, compression, quoting, quotechar, lineterminator, chunksize, date_format, doublequote, escapechar, decimal, errors, storage_options)\u001b[0m\n\u001b[0;32m   3761\u001b[0m df \u001b[38;5;241m=\u001b[39m \u001b[38;5;28mself\u001b[39m \u001b[38;5;28;01mif\u001b[39;00m \u001b[38;5;28misinstance\u001b[39m(\u001b[38;5;28mself\u001b[39m, ABCDataFrame) \u001b[38;5;28;01melse\u001b[39;00m \u001b[38;5;28mself\u001b[39m\u001b[38;5;241m.\u001b[39mto_frame()\n\u001b[0;32m   3763\u001b[0m formatter \u001b[38;5;241m=\u001b[39m DataFrameFormatter(\n\u001b[0;32m   3764\u001b[0m     frame\u001b[38;5;241m=\u001b[39mdf,\n\u001b[0;32m   3765\u001b[0m     header\u001b[38;5;241m=\u001b[39mheader,\n\u001b[1;32m   (...)\u001b[0m\n\u001b[0;32m   3769\u001b[0m     decimal\u001b[38;5;241m=\u001b[39mdecimal,\n\u001b[0;32m   3770\u001b[0m )\n\u001b[1;32m-> 3772\u001b[0m \u001b[38;5;28;01mreturn\u001b[39;00m \u001b[43mDataFrameRenderer\u001b[49m\u001b[43m(\u001b[49m\u001b[43mformatter\u001b[49m\u001b[43m)\u001b[49m\u001b[38;5;241;43m.\u001b[39;49m\u001b[43mto_csv\u001b[49m\u001b[43m(\u001b[49m\n\u001b[0;32m   3773\u001b[0m \u001b[43m    \u001b[49m\u001b[43mpath_or_buf\u001b[49m\u001b[43m,\u001b[49m\n\u001b[0;32m   3774\u001b[0m \u001b[43m    \u001b[49m\u001b[43mlineterminator\u001b[49m\u001b[38;5;241;43m=\u001b[39;49m\u001b[43mlineterminator\u001b[49m\u001b[43m,\u001b[49m\n\u001b[0;32m   3775\u001b[0m \u001b[43m    \u001b[49m\u001b[43msep\u001b[49m\u001b[38;5;241;43m=\u001b[39;49m\u001b[43msep\u001b[49m\u001b[43m,\u001b[49m\n\u001b[0;32m   3776\u001b[0m \u001b[43m    \u001b[49m\u001b[43mencoding\u001b[49m\u001b[38;5;241;43m=\u001b[39;49m\u001b[43mencoding\u001b[49m\u001b[43m,\u001b[49m\n\u001b[0;32m   3777\u001b[0m \u001b[43m    \u001b[49m\u001b[43merrors\u001b[49m\u001b[38;5;241;43m=\u001b[39;49m\u001b[43merrors\u001b[49m\u001b[43m,\u001b[49m\n\u001b[0;32m   3778\u001b[0m \u001b[43m    \u001b[49m\u001b[43mcompression\u001b[49m\u001b[38;5;241;43m=\u001b[39;49m\u001b[43mcompression\u001b[49m\u001b[43m,\u001b[49m\n\u001b[0;32m   3779\u001b[0m \u001b[43m    \u001b[49m\u001b[43mquoting\u001b[49m\u001b[38;5;241;43m=\u001b[39;49m\u001b[43mquoting\u001b[49m\u001b[43m,\u001b[49m\n\u001b[0;32m   3780\u001b[0m \u001b[43m    \u001b[49m\u001b[43mcolumns\u001b[49m\u001b[38;5;241;43m=\u001b[39;49m\u001b[43mcolumns\u001b[49m\u001b[43m,\u001b[49m\n\u001b[0;32m   3781\u001b[0m \u001b[43m    \u001b[49m\u001b[43mindex_label\u001b[49m\u001b[38;5;241;43m=\u001b[39;49m\u001b[43mindex_label\u001b[49m\u001b[43m,\u001b[49m\n\u001b[0;32m   3782\u001b[0m \u001b[43m    \u001b[49m\u001b[43mmode\u001b[49m\u001b[38;5;241;43m=\u001b[39;49m\u001b[43mmode\u001b[49m\u001b[43m,\u001b[49m\n\u001b[0;32m   3783\u001b[0m \u001b[43m    \u001b[49m\u001b[43mchunksize\u001b[49m\u001b[38;5;241;43m=\u001b[39;49m\u001b[43mchunksize\u001b[49m\u001b[43m,\u001b[49m\n\u001b[0;32m   3784\u001b[0m \u001b[43m    \u001b[49m\u001b[43mquotechar\u001b[49m\u001b[38;5;241;43m=\u001b[39;49m\u001b[43mquotechar\u001b[49m\u001b[43m,\u001b[49m\n\u001b[0;32m   3785\u001b[0m \u001b[43m    \u001b[49m\u001b[43mdate_format\u001b[49m\u001b[38;5;241;43m=\u001b[39;49m\u001b[43mdate_format\u001b[49m\u001b[43m,\u001b[49m\n\u001b[0;32m   3786\u001b[0m \u001b[43m    \u001b[49m\u001b[43mdoublequote\u001b[49m\u001b[38;5;241;43m=\u001b[39;49m\u001b[43mdoublequote\u001b[49m\u001b[43m,\u001b[49m\n\u001b[0;32m   3787\u001b[0m \u001b[43m    \u001b[49m\u001b[43mescapechar\u001b[49m\u001b[38;5;241;43m=\u001b[39;49m\u001b[43mescapechar\u001b[49m\u001b[43m,\u001b[49m\n\u001b[0;32m   3788\u001b[0m \u001b[43m    \u001b[49m\u001b[43mstorage_options\u001b[49m\u001b[38;5;241;43m=\u001b[39;49m\u001b[43mstorage_options\u001b[49m\u001b[43m,\u001b[49m\n\u001b[0;32m   3789\u001b[0m \u001b[43m\u001b[49m\u001b[43m)\u001b[49m\n",
      "File \u001b[1;32mc:\\Users\\Paul Tandazo\\.conda\\envs\\entorno_1\\lib\\site-packages\\pandas\\io\\formats\\format.py:1186\u001b[0m, in \u001b[0;36mDataFrameRenderer.to_csv\u001b[1;34m(self, path_or_buf, encoding, sep, columns, index_label, mode, compression, quoting, quotechar, lineterminator, chunksize, date_format, doublequote, escapechar, errors, storage_options)\u001b[0m\n\u001b[0;32m   1165\u001b[0m     created_buffer \u001b[38;5;241m=\u001b[39m \u001b[38;5;28;01mFalse\u001b[39;00m\n\u001b[0;32m   1167\u001b[0m csv_formatter \u001b[38;5;241m=\u001b[39m CSVFormatter(\n\u001b[0;32m   1168\u001b[0m     path_or_buf\u001b[38;5;241m=\u001b[39mpath_or_buf,\n\u001b[0;32m   1169\u001b[0m     lineterminator\u001b[38;5;241m=\u001b[39mlineterminator,\n\u001b[1;32m   (...)\u001b[0m\n\u001b[0;32m   1184\u001b[0m     formatter\u001b[38;5;241m=\u001b[39m\u001b[38;5;28mself\u001b[39m\u001b[38;5;241m.\u001b[39mfmt,\n\u001b[0;32m   1185\u001b[0m )\n\u001b[1;32m-> 1186\u001b[0m \u001b[43mcsv_formatter\u001b[49m\u001b[38;5;241;43m.\u001b[39;49m\u001b[43msave\u001b[49m\u001b[43m(\u001b[49m\u001b[43m)\u001b[49m\n\u001b[0;32m   1188\u001b[0m \u001b[38;5;28;01mif\u001b[39;00m created_buffer:\n\u001b[0;32m   1189\u001b[0m     \u001b[38;5;28;01massert\u001b[39;00m \u001b[38;5;28misinstance\u001b[39m(path_or_buf, StringIO)\n",
      "File \u001b[1;32mc:\\Users\\Paul Tandazo\\.conda\\envs\\entorno_1\\lib\\site-packages\\pandas\\io\\formats\\csvs.py:240\u001b[0m, in \u001b[0;36mCSVFormatter.save\u001b[1;34m(self)\u001b[0m\n\u001b[0;32m    236\u001b[0m \u001b[38;5;250m\u001b[39m\u001b[38;5;124;03m\"\"\"\u001b[39;00m\n\u001b[0;32m    237\u001b[0m \u001b[38;5;124;03mCreate the writer & save.\u001b[39;00m\n\u001b[0;32m    238\u001b[0m \u001b[38;5;124;03m\"\"\"\u001b[39;00m\n\u001b[0;32m    239\u001b[0m \u001b[38;5;66;03m# apply compression and byte/text conversion\u001b[39;00m\n\u001b[1;32m--> 240\u001b[0m \u001b[38;5;28;01mwith\u001b[39;00m \u001b[43mget_handle\u001b[49m\u001b[43m(\u001b[49m\n\u001b[0;32m    241\u001b[0m \u001b[43m    \u001b[49m\u001b[38;5;28;43mself\u001b[39;49m\u001b[38;5;241;43m.\u001b[39;49m\u001b[43mfilepath_or_buffer\u001b[49m\u001b[43m,\u001b[49m\n\u001b[0;32m    242\u001b[0m \u001b[43m    \u001b[49m\u001b[38;5;28;43mself\u001b[39;49m\u001b[38;5;241;43m.\u001b[39;49m\u001b[43mmode\u001b[49m\u001b[43m,\u001b[49m\n\u001b[0;32m    243\u001b[0m \u001b[43m    \u001b[49m\u001b[43mencoding\u001b[49m\u001b[38;5;241;43m=\u001b[39;49m\u001b[38;5;28;43mself\u001b[39;49m\u001b[38;5;241;43m.\u001b[39;49m\u001b[43mencoding\u001b[49m\u001b[43m,\u001b[49m\n\u001b[0;32m    244\u001b[0m \u001b[43m    \u001b[49m\u001b[43merrors\u001b[49m\u001b[38;5;241;43m=\u001b[39;49m\u001b[38;5;28;43mself\u001b[39;49m\u001b[38;5;241;43m.\u001b[39;49m\u001b[43merrors\u001b[49m\u001b[43m,\u001b[49m\n\u001b[0;32m    245\u001b[0m \u001b[43m    \u001b[49m\u001b[43mcompression\u001b[49m\u001b[38;5;241;43m=\u001b[39;49m\u001b[38;5;28;43mself\u001b[39;49m\u001b[38;5;241;43m.\u001b[39;49m\u001b[43mcompression\u001b[49m\u001b[43m,\u001b[49m\n\u001b[0;32m    246\u001b[0m \u001b[43m    \u001b[49m\u001b[43mstorage_options\u001b[49m\u001b[38;5;241;43m=\u001b[39;49m\u001b[38;5;28;43mself\u001b[39;49m\u001b[38;5;241;43m.\u001b[39;49m\u001b[43mstorage_options\u001b[49m\u001b[43m,\u001b[49m\n\u001b[0;32m    247\u001b[0m \u001b[43m\u001b[49m\u001b[43m)\u001b[49m \u001b[38;5;28;01mas\u001b[39;00m handles:\n\u001b[0;32m    248\u001b[0m     \u001b[38;5;66;03m# Note: self.encoding is irrelevant here\u001b[39;00m\n\u001b[0;32m    249\u001b[0m     \u001b[38;5;28mself\u001b[39m\u001b[38;5;241m.\u001b[39mwriter \u001b[38;5;241m=\u001b[39m csvlib\u001b[38;5;241m.\u001b[39mwriter(\n\u001b[0;32m    250\u001b[0m         handles\u001b[38;5;241m.\u001b[39mhandle,\n\u001b[0;32m    251\u001b[0m         lineterminator\u001b[38;5;241m=\u001b[39m\u001b[38;5;28mself\u001b[39m\u001b[38;5;241m.\u001b[39mlineterminator,\n\u001b[1;32m   (...)\u001b[0m\n\u001b[0;32m    256\u001b[0m         quotechar\u001b[38;5;241m=\u001b[39m\u001b[38;5;28mself\u001b[39m\u001b[38;5;241m.\u001b[39mquotechar,\n\u001b[0;32m    257\u001b[0m     )\n\u001b[0;32m    259\u001b[0m     \u001b[38;5;28mself\u001b[39m\u001b[38;5;241m.\u001b[39m_save()\n",
      "File \u001b[1;32mc:\\Users\\Paul Tandazo\\.conda\\envs\\entorno_1\\lib\\site-packages\\pandas\\io\\common.py:859\u001b[0m, in \u001b[0;36mget_handle\u001b[1;34m(path_or_buf, mode, encoding, compression, memory_map, is_text, errors, storage_options)\u001b[0m\n\u001b[0;32m    854\u001b[0m \u001b[38;5;28;01melif\u001b[39;00m \u001b[38;5;28misinstance\u001b[39m(handle, \u001b[38;5;28mstr\u001b[39m):\n\u001b[0;32m    855\u001b[0m     \u001b[38;5;66;03m# Check whether the filename is to be opened in binary mode.\u001b[39;00m\n\u001b[0;32m    856\u001b[0m     \u001b[38;5;66;03m# Binary mode does not support 'encoding' and 'newline'.\u001b[39;00m\n\u001b[0;32m    857\u001b[0m     \u001b[38;5;28;01mif\u001b[39;00m ioargs\u001b[38;5;241m.\u001b[39mencoding \u001b[38;5;129;01mand\u001b[39;00m \u001b[38;5;124m\"\u001b[39m\u001b[38;5;124mb\u001b[39m\u001b[38;5;124m\"\u001b[39m \u001b[38;5;129;01mnot\u001b[39;00m \u001b[38;5;129;01min\u001b[39;00m ioargs\u001b[38;5;241m.\u001b[39mmode:\n\u001b[0;32m    858\u001b[0m         \u001b[38;5;66;03m# Encoding\u001b[39;00m\n\u001b[1;32m--> 859\u001b[0m         handle \u001b[38;5;241m=\u001b[39m \u001b[38;5;28;43mopen\u001b[39;49m\u001b[43m(\u001b[49m\n\u001b[0;32m    860\u001b[0m \u001b[43m            \u001b[49m\u001b[43mhandle\u001b[49m\u001b[43m,\u001b[49m\n\u001b[0;32m    861\u001b[0m \u001b[43m            \u001b[49m\u001b[43mioargs\u001b[49m\u001b[38;5;241;43m.\u001b[39;49m\u001b[43mmode\u001b[49m\u001b[43m,\u001b[49m\n\u001b[0;32m    862\u001b[0m \u001b[43m            \u001b[49m\u001b[43mencoding\u001b[49m\u001b[38;5;241;43m=\u001b[39;49m\u001b[43mioargs\u001b[49m\u001b[38;5;241;43m.\u001b[39;49m\u001b[43mencoding\u001b[49m\u001b[43m,\u001b[49m\n\u001b[0;32m    863\u001b[0m \u001b[43m            \u001b[49m\u001b[43merrors\u001b[49m\u001b[38;5;241;43m=\u001b[39;49m\u001b[43merrors\u001b[49m\u001b[43m,\u001b[49m\n\u001b[0;32m    864\u001b[0m \u001b[43m            \u001b[49m\u001b[43mnewline\u001b[49m\u001b[38;5;241;43m=\u001b[39;49m\u001b[38;5;124;43m\"\u001b[39;49m\u001b[38;5;124;43m\"\u001b[39;49m\u001b[43m,\u001b[49m\n\u001b[0;32m    865\u001b[0m \u001b[43m        \u001b[49m\u001b[43m)\u001b[49m\n\u001b[0;32m    866\u001b[0m     \u001b[38;5;28;01melse\u001b[39;00m:\n\u001b[0;32m    867\u001b[0m         \u001b[38;5;66;03m# Binary mode\u001b[39;00m\n\u001b[0;32m    868\u001b[0m         handle \u001b[38;5;241m=\u001b[39m \u001b[38;5;28mopen\u001b[39m(handle, ioargs\u001b[38;5;241m.\u001b[39mmode)\n",
      "\u001b[1;31mPermissionError\u001b[0m: [Errno 13] Permission denied: 'C:\\\\Users\\\\Paul Tandazo\\\\Desktop\\\\DataMining Prueba Practica\\\\data\\\\semiclean\\\\analytic_df.csv'"
     ]
    }
   ],
   "source": [
    "# Exportar el DataFrame analytic_df a un archivo CSV en la ruta especificada\n",
    "output_path = r\"C:\\Users\\Paul Tandazo\\Desktop\\DataMining Prueba Practica\\data\\semiclean\\analytic_df.csv\"\n",
    "analytic_df.to_csv(output_path, index=False)\n",
    "\n",
    "print(f\"El archivo se ha exportado correctamente a {output_path}\")\n",
    "\n"
   ]
  },
  {
   "cell_type": "markdown",
   "metadata": {},
   "source": []
  }
 ],
 "metadata": {
  "kernelspec": {
   "display_name": "entorno_1",
   "language": "python",
   "name": "python3"
  },
  "language_info": {
   "codemirror_mode": {
    "name": "ipython",
    "version": 3
   },
   "file_extension": ".py",
   "mimetype": "text/x-python",
   "name": "python",
   "nbconvert_exporter": "python",
   "pygments_lexer": "ipython3",
   "version": "3.10.13"
  }
 },
 "nbformat": 4,
 "nbformat_minor": 2
}
